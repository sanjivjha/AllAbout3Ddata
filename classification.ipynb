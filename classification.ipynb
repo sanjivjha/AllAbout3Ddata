{
 "cells": [
  {
   "cell_type": "code",
   "execution_count": 1,
   "id": "00569d6e",
   "metadata": {},
   "outputs": [
    {
     "ename": "ModuleNotFoundError",
     "evalue": "No module named 'torch'",
     "output_type": "error",
     "traceback": [
      "\u001b[0;31m---------------------------------------------------------------------------\u001b[0m",
      "\u001b[0;31mModuleNotFoundError\u001b[0m                       Traceback (most recent call last)",
      "Cell \u001b[0;32mIn[1], line 4\u001b[0m\n\u001b[1;32m      2\u001b[0m \u001b[38;5;28;01mimport\u001b[39;00m \u001b[38;5;21;01murllib\u001b[39;00m\u001b[38;5;21;01m.\u001b[39;00m\u001b[38;5;21;01mrequest\u001b[39;00m\n\u001b[1;32m      3\u001b[0m \u001b[38;5;28;01mimport\u001b[39;00m \u001b[38;5;21;01mzipfile\u001b[39;00m\n\u001b[0;32m----> 4\u001b[0m \u001b[38;5;28;01mimport\u001b[39;00m \u001b[38;5;21;01mtorch\u001b[39;00m\n\u001b[1;32m      5\u001b[0m \u001b[38;5;28;01mimport\u001b[39;00m \u001b[38;5;21;01mtorch\u001b[39;00m\u001b[38;5;21;01m.\u001b[39;00m\u001b[38;5;21;01mnn\u001b[39;00m \u001b[38;5;28;01mas\u001b[39;00m \u001b[38;5;21;01mnn\u001b[39;00m\n\u001b[1;32m      6\u001b[0m \u001b[38;5;28;01mimport\u001b[39;00m \u001b[38;5;21;01mtorch\u001b[39;00m\u001b[38;5;21;01m.\u001b[39;00m\u001b[38;5;21;01moptim\u001b[39;00m \u001b[38;5;28;01mas\u001b[39;00m \u001b[38;5;21;01moptim\u001b[39;00m\n",
      "\u001b[0;31mModuleNotFoundError\u001b[0m: No module named 'torch'"
     ]
    }
   ],
   "source": [
    "import os\n",
    "import urllib.request\n",
    "import zipfile\n",
    "import torch\n",
    "import torch.nn as nn\n",
    "import torch.optim as optim\n",
    "from pointnet import PointNetClassifier\n",
    "from ModelNetDataLoader import ModelNetDataLoader\n",
    "\n",
    "# Download and extract the ModelNet40 dataset\n",
    "url = \"https://shapenet.cs.stanford.edu/media/modelnet40_ply_hdf5_2048.zip\"\n",
    "filename = \"modelnet40_ply_hdf5_2048.zip\"\n",
    "if not os.path.exists(filename):\n",
    "    print(\"Downloading ModelNet40 dataset...\")\n",
    "    urllib.request.urlretrieve(url, filename)\n",
    "    with zipfile.ZipFile(filename, \"r\") as zip_ref:\n",
    "        zip_ref.extractall(\".\")\n",
    "\n",
    "# Load and preprocess 3D point cloud data\n",
    "train_data = ModelNetDataLoader(\"modelnet40_ply_hdf5_2048/ply_data_train.h5\", num_points=1024)\n",
    "test_data = ModelNetDataLoader(\"modelnet40_ply_hdf5_2048/ply_data_test.h5\", num_points=1024)\n",
    "\n",
    "# Create a PointNet classifier\n",
    "model = PointNetClassifier(num_classes=40)\n",
    "\n",
    "# Define loss function and optimizer\n",
    "criterion = nn.CrossEntropyLoss()\n",
    "optimizer = optim.Adam(model.parameters(), lr=0.001)\n",
    "\n",
    "# Training loop\n",
    "num_epochs = 10\n",
    "for epoch in range(num_epochs):\n",
    "    model.train()\n",
    "    for batch_data, batch_labels in train_data:\n",
    "        # Forward pass\n",
    "        outputs = model(batch_data)\n",
    "        loss = criterion(outputs, batch_labels)\n",
    "        \n",
    "        # Backward pass and optimization\n",
    "        optimizer.zero_grad()\n",
    "        loss.backward()\n",
    "        optimizer.step()\n",
    "    \n",
    "    # Print training progress\n",
    "    print(f\"Epoch [{epoch+1}/{num_epochs}], Loss: {loss.item():.4f}\")\n",
    "\n",
    "# Save the trained model\n",
    "torch.save(model.state_dict(), \"pointnet_model.pth\")\n",
    "\n",
    "# Test driver\n",
    "model.eval()\n",
    "class_names = [\"airplane\", \"bathtub\", \"bed\", \"bench\", \"bookshelf\", \"bottle\", \"bowl\", \"car\", \"chair\", \"cone\",\n",
    "               \"cup\", \"curtain\", \"desk\", \"door\", \"dresser\", \"flower_pot\", \"glass_box\", \"guitar\", \"keyboard\",\n",
    "               \"lamp\", \"laptop\", \"mantel\", \"monitor\", \"night_stand\", \"person\", \"piano\", \"plant\", \"radio\",\n",
    "               \"range_hood\", \"sink\", \"sofa\", \"stairs\", \"stool\", \"table\", \"tent\", \"toilet\", \"tv_stand\", \"vase\",\n",
    "               \"wardrobe\", \"xbox\"]\n",
    "\n",
    "# Sample test images from online sources\n",
    "test_images = [\n",
    "    \"https://github.com/charlesq34/pointnet/raw/master/misc/airplane.ply\",\n",
    "    \"https://github.com/charlesq34/pointnet/raw/master/misc/chair.ply\",\n",
    "    \"https://github.com/charlesq34/pointnet/raw/master/misc/car.ply\"\n",
    "]\n",
    "\n",
    "for image_url in test_images:\n",
    "    # Download the test image\n",
    "    filename = os.path.basename(image_url)\n",
    "    urllib.request.urlretrieve(image_url, filename)\n",
    "    \n",
    "    # Load and preprocess the test image\n",
    "    test_data = ModelNetDataLoader(filename, num_points=1024)\n",
    "    test_data = next(iter(test_data))\n",
    "    \n",
    "    # Perform inference\n",
    "    with torch.no_grad():\n",
    "        outputs = model(test_data)\n",
    "        _, predicted = torch.max(outputs.data, 1)\n",
    "    \n",
    "    predicted_class = class_names[predicted.item()]\n",
    "    print(f\"Test Image: {filename}\")\n",
    "    print(f\"Predicted Class: {predicted_class}\")\n",
    "    print(\"---\")\n",
    "    \n",
    "    # Clean up the downloaded test image\n",
    "    os.remove(filename)"
   ]
  },
  {
   "cell_type": "code",
   "execution_count": 2,
   "id": "7e08763b",
   "metadata": {},
   "outputs": [
    {
     "ename": "SyntaxError",
     "evalue": "invalid syntax (1599436247.py, line 1)",
     "output_type": "error",
     "traceback": [
      "\u001b[0;36m  Cell \u001b[0;32mIn[2], line 1\u001b[0;36m\u001b[0m\n\u001b[0;31m    1pip install torch\u001b[0m\n\u001b[0m     ^\u001b[0m\n\u001b[0;31mSyntaxError\u001b[0m\u001b[0;31m:\u001b[0m invalid syntax\n"
     ]
    }
   ],
   "source": [
    "1pip install torch"
   ]
  },
  {
   "cell_type": "code",
   "execution_count": null,
   "id": "01a8b1b7",
   "metadata": {},
   "outputs": [],
   "source": []
  }
 ],
 "metadata": {
  "kernelspec": {
   "display_name": "Python 3 (ipykernel)",
   "language": "python",
   "name": "python3"
  },
  "language_info": {
   "codemirror_mode": {
    "name": "ipython",
    "version": 3
   },
   "file_extension": ".py",
   "mimetype": "text/x-python",
   "name": "python",
   "nbconvert_exporter": "python",
   "pygments_lexer": "ipython3",
   "version": "3.8.17"
  }
 },
 "nbformat": 4,
 "nbformat_minor": 5
}
